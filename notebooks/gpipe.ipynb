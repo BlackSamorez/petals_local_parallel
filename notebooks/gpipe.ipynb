{
 "cells": [
  {
   "cell_type": "code",
   "execution_count": 1,
   "metadata": {},
   "outputs": [],
   "source": [
    "import os\n",
    "os.environ['CUDA_DEVICE_ORDER'] = 'PCI_BUS_ID'\n",
    "os.environ['CUDA_VISIBLE_DEVICES'] = '0, 1'"
   ]
  },
  {
   "cell_type": "code",
   "execution_count": 55,
   "metadata": {},
   "outputs": [],
   "source": [
    "from typing import List, Tuple\n",
    "\n",
    "import torch\n",
    "from torch import nn\n",
    "\n",
    "from transformers.models.bloom.modeling_bloom import BloomBlock, build_alibi_tensor, _make_causal_mask, _expand_mask\n",
    "from transformers.models.bloom.configuration_bloom import BloomConfig"
   ]
  },
  {
   "cell_type": "code",
   "execution_count": 56,
   "metadata": {},
   "outputs": [],
   "source": [
    "BLOOMCONFIG='bloom-1b1'\n",
    "PIPELINEPARALLELSIZE = 2"
   ]
  },
  {
   "cell_type": "code",
   "execution_count": 57,
   "metadata": {},
   "outputs": [
    {
     "name": "stderr",
     "output_type": "stream",
     "text": [
      "loading configuration file config.json from cache at /home/adpanferov/.cache/huggingface/hub/models--bigscience--bloom-1b1/snapshots/1e718be072aa40714c9dc34e35ea6b64979a65ad/config.json\n",
      "Model config BloomConfig {\n",
      "  \"apply_residual_connection_post_layernorm\": false,\n",
      "  \"architectures\": [\n",
      "    \"BloomModel\"\n",
      "  ],\n",
      "  \"attention_dropout\": 0.0,\n",
      "  \"attention_softmax_in_fp32\": true,\n",
      "  \"bias_dropout_fusion\": true,\n",
      "  \"bos_token_id\": 1,\n",
      "  \"eos_token_id\": 2,\n",
      "  \"hidden_dropout\": 0.0,\n",
      "  \"hidden_size\": 1536,\n",
      "  \"initializer_range\": 0.02,\n",
      "  \"layer_norm_epsilon\": 1e-05,\n",
      "  \"masked_softmax_fusion\": true,\n",
      "  \"model_type\": \"bloom\",\n",
      "  \"n_head\": 16,\n",
      "  \"n_inner\": null,\n",
      "  \"n_layer\": 24,\n",
      "  \"offset_alibi\": 100,\n",
      "  \"pad_token_id\": 3,\n",
      "  \"pretraining_tp\": 1,\n",
      "  \"skip_bias_add\": true,\n",
      "  \"skip_bias_add_qkv\": false,\n",
      "  \"slow_but_exact\": false,\n",
      "  \"transformers_version\": \"4.22.2\",\n",
      "  \"unk_token_id\": 0,\n",
      "  \"use_cache\": true,\n",
      "  \"vocab_size\": 250880\n",
      "}\n",
      "\n"
     ]
    }
   ],
   "source": [
    "config = BloomConfig()\n",
    "config = config.from_pretrained(f\"bigscience/{BLOOMCONFIG}\")\n",
    "assert config.num_hidden_layers % PIPELINEPARALLELSIZE == 0\n",
    "config.num_hidden_layers = config.num_hidden_layers // PIPELINEPARALLELSIZE"
   ]
  },
  {
   "cell_type": "code",
   "execution_count": 77,
   "metadata": {},
   "outputs": [],
   "source": [
    "class MiddleBloom(nn.Module):\n",
    "    def __init__(self, config: BloomConfig):\n",
    "        super().__init__()\n",
    "\n",
    "        self.num_heads = config.n_head\n",
    "        self.h = nn.ModuleList([BloomBlock(config) for _ in range(config.num_hidden_layers)])\n",
    "        self.gradient_checkpointing = False\n",
    "\n",
    "    def _prepare_attn_mask(\n",
    "        self, attention_mask: torch.Tensor, input_shape: Tuple[int, int], past_key_values_length: int\n",
    "    ) -> torch.BoolTensor:\n",
    "        # create causal mask\n",
    "        # [batch_size, seq_length] -> [batch_size, 1, tgt_length, src_length]\n",
    "        combined_attention_mask = None\n",
    "        device = attention_mask.device\n",
    "        _, src_length = input_shape\n",
    "\n",
    "        if src_length > 1:\n",
    "            combined_attention_mask = _make_causal_mask(\n",
    "                input_shape, device=device, past_key_values_length=past_key_values_length\n",
    "            )\n",
    "\n",
    "        # [batch_size, seq_length] -> [batch_size, 1, tgt_length, src_length]\n",
    "        expanded_attn_mask = _expand_mask(attention_mask, tgt_length=src_length)\n",
    "        combined_attention_mask = (\n",
    "            expanded_attn_mask if combined_attention_mask is None else expanded_attn_mask | combined_attention_mask\n",
    "        )\n",
    "\n",
    "        return combined_attention_mask\n",
    "\n",
    "    def forward(self, hidden_states, attention_mask=None, past_key_values = None):\n",
    "        batch_size, seq_length, _ = hidden_states.shape\n",
    "\n",
    "        if past_key_values is None:\n",
    "            past_key_values = tuple([None] * len(self.h))\n",
    "        \n",
    "        if attention_mask is None:\n",
    "            attention_mask = torch.ones((batch_size, seq_length), device=hidden_states.device)\n",
    "        else:\n",
    "            attention_mask = attention_mask.to(hidden_states.device)\n",
    "\n",
    "        alibi = build_alibi_tensor(attention_mask, self.num_heads, dtype=hidden_states.dtype)\n",
    "\n",
    "        causal_mask = self._prepare_attn_mask(\n",
    "            attention_mask,\n",
    "            input_shape=(batch_size, seq_length),\n",
    "            past_key_values_length=0,\n",
    "        )\n",
    "\n",
    "        for i, (block, layer_past) in enumerate(zip(self.h, past_key_values)):\n",
    "            if self.gradient_checkpointing and self.training:\n",
    "                def create_custom_forward(module):\n",
    "                    def custom_forward(*inputs):\n",
    "                        # None for past_key_value\n",
    "                        return module(*inputs, use_cache=False, output_attentions=False)\n",
    "\n",
    "                    return custom_forward\n",
    "\n",
    "                outputs = torch.utils.checkpoint.checkpoint(\n",
    "                    create_custom_forward(block),\n",
    "                    hidden_states,\n",
    "                    alibi,\n",
    "                    None,\n",
    "                    None,\n",
    "                )\n",
    "            else:\n",
    "                outputs = block(\n",
    "                    hidden_states,\n",
    "                    layer_past=layer_past,\n",
    "                    attention_mask=causal_mask,\n",
    "                    head_mask=None,\n",
    "                    use_cache=False,\n",
    "                    output_attentions=False,\n",
    "                    alibi=alibi,\n",
    "                )\n",
    "\n",
    "            hidden_states = outputs[0]\n",
    "\n",
    "        return hidden_states\n"
   ]
  },
  {
   "cell_type": "code",
   "execution_count": 78,
   "metadata": {},
   "outputs": [],
   "source": [
    "model = MiddleBloom(config)"
   ]
  },
  {
   "cell_type": "code",
   "execution_count": 79,
   "metadata": {},
   "outputs": [
    {
     "data": {
      "text/plain": [
       "torch.Size([17, 9, 1536])"
      ]
     },
     "execution_count": 79,
     "metadata": {},
     "output_type": "execute_result"
    }
   ],
   "source": [
    "model(torch.ones((17, 9, config.hidden_size)), None).shape"
   ]
  },
  {
   "cell_type": "code",
   "execution_count": 82,
   "metadata": {},
   "outputs": [],
   "source": [
    "from torchgpipe import GPipe\n",
    "\n",
    "model = nn.Sequential(*[MiddleBloom(config) for _ in range(PIPELINEPARALLELSIZE)])\n",
    "model = GPipe(model,\n",
    "              balance=[1, 1],\n",
    "              devices=[0, 1],  # Specify GPUs.\n",
    "              chunks=8)"
   ]
  },
  {
   "cell_type": "code",
   "execution_count": 84,
   "metadata": {},
   "outputs": [
    {
     "data": {
      "text/plain": [
       "torch.Size([17, 9, 1536])"
      ]
     },
     "execution_count": 84,
     "metadata": {},
     "output_type": "execute_result"
    }
   ],
   "source": [
    "in_device = model.devices[0]\n",
    "out_device = model.devices[-1]\n",
    "\n",
    "model(torch.ones((17, 9, config.hidden_size)).to(in_device)).shape"
   ]
  },
  {
   "cell_type": "code",
   "execution_count": null,
   "metadata": {},
   "outputs": [],
   "source": []
  }
 ],
 "metadata": {
  "kernelspec": {
   "display_name": "Python 3.10.6 ('dist')",
   "language": "python",
   "name": "python3"
  },
  "language_info": {
   "codemirror_mode": {
    "name": "ipython",
    "version": 3
   },
   "file_extension": ".py",
   "mimetype": "text/x-python",
   "name": "python",
   "nbconvert_exporter": "python",
   "pygments_lexer": "ipython3",
   "version": "3.10.6"
  },
  "orig_nbformat": 4,
  "vscode": {
   "interpreter": {
    "hash": "b4f9af776eba44096d2a2b91b2ae4dd4ecd10ec5726c41598312832383f4ab0e"
   }
  }
 },
 "nbformat": 4,
 "nbformat_minor": 2
}
